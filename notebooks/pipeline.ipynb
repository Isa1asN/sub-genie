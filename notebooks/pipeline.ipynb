{
 "cells": [
  {
   "cell_type": "code",
   "execution_count": 17,
   "metadata": {},
   "outputs": [],
   "source": [
    "from faster_whisper import WhisperModel\n",
    "import os"
   ]
  },
  {
   "cell_type": "code",
   "execution_count": 2,
   "metadata": {},
   "outputs": [],
   "source": [
    "video_path = \"../examples/example2.mp4\""
   ]
  },
  {
   "cell_type": "code",
   "execution_count": 29,
   "metadata": {},
   "outputs": [],
   "source": [
    "class STT:\n",
    "    def __init__(self, model_size=\"base\", device=\"cpu\"):\n",
    "        \"\"\"\n",
    "        Initialize the STT class with the specified model size and device.\n",
    "\n",
    "        Parameters:\n",
    "        model_size (str): The size of the Whisper model to use (e.g., \"tiny\", \"base\", \"small\", \"medium\", \"large\").\n",
    "                            for english only: \"tiny.en\", \"base.en\", \"small.en\", \"medium.en\" are available and perform better.\n",
    "        device (str): The device to run the model on (\"cpu\" or \"cuda\").\n",
    "        \"\"\"\n",
    "        self.model_size = model_size\n",
    "        self.device = device\n",
    "        self.model = None\n",
    "        self._load_model()\n",
    "\n",
    "    def _load_model(self):\n",
    "        \"\"\"\n",
    "        Load the Whisper model. The model will be downloaded if it is not already cached locally.\n",
    "        \"\"\"\n",
    "        self.model = WhisperModel(self.model_size, device=self.device, num_workers=4)\n",
    "\n",
    "    def format_time(self, seconds):\n",
    "        minutes, seconds = divmod(seconds, 60)\n",
    "        hours, minutes = divmod(minutes, 60)\n",
    "        milliseconds = (seconds - int(seconds)) * 1000\n",
    "        return f\"{int(hours):02d}:{int(minutes):02d}:{int(seconds):02d},{int(milliseconds):03d}\"\n",
    "\n",
    "    def transcribe(self, input_file):\n",
    "        task = \"transcribe\"  # translate, transcribe\n",
    "        segments, info = self.model.transcribe(input_file, vad_filter=True, beam_size=5)\n",
    "        print(\"Detected language '{}' with probability {:.2f}\".format(info.language, info.language_probability))\n",
    "\n",
    "        return segments\n",
    "\n",
    "    def get_srt(self, segments, input_file):\n",
    "        srt_filename = os.path.splitext(input_file)[0] + '.srt'\n",
    "        try:\n",
    "            srt_dict = {}\n",
    "            for segment in segments:\n",
    "                start_time = self.format_time(segment.start)\n",
    "                end_time = self.format_time(segment.end)\n",
    "                text = segment.text\n",
    "                segment_id = segment.id\n",
    "                line_out = f\"{segment_id}\\n{start_time} --> {end_time}\\n{text.lstrip()}\\n\\n\"\n",
    "                srt_dict[segment_id] = line_out\n",
    "            with open(srt_filename, 'w', encoding='utf-8') as srt_file:\n",
    "                for key in sorted(srt_dict.keys()):\n",
    "                    srt_file.write(srt_dict[key])\n",
    "        except Exception as e:\n",
    "            print(f\"Error writing srt file: {e}\")\n",
    "\n",
    "        return srt_filename\n"
   ]
  },
  {
   "cell_type": "code",
   "execution_count": 30,
   "metadata": {},
   "outputs": [],
   "source": [
    "stt = STT(model_size=\"tiny.en\", device=\"cpu\")"
   ]
  },
  {
   "cell_type": "code",
   "execution_count": 31,
   "metadata": {},
   "outputs": [
    {
     "name": "stdout",
     "output_type": "stream",
     "text": [
      "Detected language 'en' with probability 1.00\n"
     ]
    }
   ],
   "source": [
    "segments = stt.transcribe(input_file=video_path)"
   ]
  },
  {
   "cell_type": "code",
   "execution_count": 27,
   "metadata": {},
   "outputs": [],
   "source": [
    "srt_path = stt.get_srt(segments, video_path)"
   ]
  },
  {
   "cell_type": "code",
   "execution_count": 28,
   "metadata": {},
   "outputs": [
    {
     "data": {
      "text/plain": [
       "'../examples/example2.srt'"
      ]
     },
     "execution_count": 28,
     "metadata": {},
     "output_type": "execute_result"
    }
   ],
   "source": [
    "srt_path"
   ]
  },
  {
   "cell_type": "code",
   "execution_count": null,
   "metadata": {},
   "outputs": [],
   "source": []
  }
 ],
 "metadata": {
  "kernelspec": {
   "display_name": "microservices",
   "language": "python",
   "name": "python3"
  },
  "language_info": {
   "codemirror_mode": {
    "name": "ipython",
    "version": 3
   },
   "file_extension": ".py",
   "mimetype": "text/x-python",
   "name": "python",
   "nbconvert_exporter": "python",
   "pygments_lexer": "ipython3",
   "version": "3.11.9"
  }
 },
 "nbformat": 4,
 "nbformat_minor": 2
}
